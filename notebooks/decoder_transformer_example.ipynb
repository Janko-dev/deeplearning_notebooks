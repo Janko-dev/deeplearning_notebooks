{
 "cells": [
  {
   "cell_type": "code",
   "execution_count": 1,
   "id": "initial_id",
   "metadata": {
    "collapsed": true,
    "ExecuteTime": {
     "end_time": "2024-03-17T14:33:30.320226Z",
     "start_time": "2024-03-17T14:33:28.748701Z"
    }
   },
   "outputs": [],
   "source": [
    "import torch\n",
    "from torch import nn\n",
    "from torch.nn import functional as F\n",
    "import matplotlib.pyplot as plt\n",
    "import numpy as np"
   ]
  },
  {
   "cell_type": "code",
   "outputs": [
    {
     "name": "stdout",
     "output_type": "stream",
     "text": [
      "torch.Size([4, 8]) torch.Size([4, 8])\n",
      "['F', 'i', 'r', 's', 't', ' ', 'C', 'i'] ['i', 'r', 's', 't', ' ', 'C', 'i', 't']\n"
     ]
    }
   ],
   "source": [
    "from torch.utils.data import IterableDataset, DataLoader, Dataset\n",
    "\n",
    "class VocabDataset(Dataset):\n",
    "    def __init__(self, file_patch: str, seq_len: int):\n",
    "        f = open(file_patch, 'r')\n",
    "        corpus = f.read()\n",
    "        f.close()\n",
    "        self.seq_len = seq_len\n",
    "        self.vocab = sorted(list(set(corpus)))\n",
    "        self.vocab_size = len(self.vocab)\n",
    "        self.stoi = dict(zip(self.vocab, range(self.vocab_size)))\n",
    "\n",
    "        self.encoder = lambda c: [self.stoi[ci] for ci in c]\n",
    "        self.decoder = lambda x: [self.vocab[xi] for xi in x]\n",
    "        self.data = torch.tensor(self.encoder(corpus))\n",
    "\n",
    "    def __getitem__(self, index):\n",
    "        x = self.data[index: index + self.seq_len]\n",
    "        y = self.data[index+1: index + self.seq_len+1]\n",
    "        return x, y\n",
    "\n",
    "    def __len__(self):\n",
    "        return len(self.data) - self.seq_len\n",
    "\n",
    "def preprocess_batch(batch: torch.Tensor):\n",
    "    # batch (batch_size, seq_len+1)\n",
    "    x = batch.reshape(batch.shape[0], 1, batch.shape[1])\n",
    "    x = x.repeat_interleave(batch.shape[1]-1, dim=1)\n",
    "    x = x[:, :, :-1].reshape(-1, x.shape[1])\n",
    "    y = batch[:, 1:].reshape(-1)\n",
    "    # tril = torch.tril(torch.ones_like(x)).reshape(-1, x.shape[1])\n",
    "    \n",
    "    # output: (batch_size, seq_len), (batch_size, ), (batch_size, seq_len)\n",
    "    return x, y\n",
    "\n",
    "vocab = VocabDataset(\"../datasets/shakespeare.txt\", seq_len=8)\n",
    "loader = DataLoader(vocab, batch_size=4, shuffle=False)\n",
    "\n",
    "for i, (x, y) in enumerate(loader):\n",
    "    \n",
    "    # print(batch.shape)\n",
    "    # x, y = preprocess_batch(batch)\n",
    "    print(x.shape, y.shape)\n",
    "    print(vocab.decoder(x[0]), vocab.decoder(y[0]))\n",
    "    \n",
    "    if i == 0: break\n"
   ],
   "metadata": {
    "collapsed": false,
    "ExecuteTime": {
     "end_time": "2024-03-17T18:16:01.571283Z",
     "start_time": "2024-03-17T18:16:01.408505Z"
    }
   },
   "id": "2768b9aa5c632c7d",
   "execution_count": 286
  },
  {
   "cell_type": "code",
   "outputs": [
    {
     "data": {
      "text/plain": "(torch.Size([4, 1, 8, 2]), torch.Size([4, 1, 8, 8]))"
     },
     "execution_count": 292,
     "metadata": {},
     "output_type": "execute_result"
    }
   ],
   "source": [
    "class DotProductAttention(nn.Module):\n",
    "    \n",
    "    def __init__(self, dropout_rate: float=0.1):\n",
    "        super().__init__()\n",
    "        self.dropout = nn.Dropout(dropout_rate)\n",
    "        self.attention_weight = None\n",
    "        \n",
    "    def forward(self, query: torch.Tensor, keys: torch.Tensor, vals: torch.Tensor):\n",
    "        # query/keys: (batch_size, seq_len, d)\n",
    "        # vals: (batch_size, seq_len, key_dim)\n",
    "        _, _, seq_len, d = query.shape\n",
    "        \n",
    "        # mask: (1, 1, seq_len, seq_len)\n",
    "        mask = torch.tril(torch.ones((seq_len, seq_len))) #.reshape(1, 1, seq_len, seq_len)\n",
    "        \n",
    "        presoftmax = query @ keys.transpose(-2, -1) / d**0.5\n",
    "        presoftmax = presoftmax.masked_fill(mask == 0, float('-inf'))\n",
    "        self.attention_weight = F.softmax(presoftmax, dim=-1)\n",
    "        # self.attention_weight = F.softmax(torch.bmm(query, keys.transpose(-2, -1)) / d, dim=-1)\n",
    "        # out: (batch_size, seq_len, key_dim)\n",
    "        return self.dropout(self.attention_weight @ vals)\n",
    "\n",
    "q = torch.randn(4, 1, 8, 2)\n",
    "k = torch.randn(4, 1, 8, 2)\n",
    "v = torch.randn(4, 1, 8, 2)\n",
    "\n",
    "attn = DotProductAttention()\n",
    "out = attn(q, k, v)\n",
    "out.shape, attn.attention_weight.shape"
   ],
   "metadata": {
    "collapsed": false,
    "ExecuteTime": {
     "end_time": "2024-03-17T18:17:17.264297Z",
     "start_time": "2024-03-17T18:17:17.257048Z"
    }
   },
   "id": "c0769deaa46d0b85",
   "execution_count": 292
  },
  {
   "cell_type": "code",
   "outputs": [
    {
     "data": {
      "text/plain": "torch.Size([16, 8, 16])"
     },
     "execution_count": 293,
     "metadata": {},
     "output_type": "execute_result"
    }
   ],
   "source": [
    "class MultiHeadAttention(nn.Module):\n",
    "    \n",
    "    def __init__(self, n_heads: int, n_hidden: int, n_out: int, dropout_rate: float=0.1, bias=False):\n",
    "        super().__init__()\n",
    "        self.n_heads = n_heads\n",
    "        self.n_hidden = n_hidden\n",
    "        self.W_q = nn.LazyLinear(n_hidden, bias=bias)\n",
    "        self.W_k = nn.LazyLinear(n_hidden, bias=bias)\n",
    "        self.W_v = nn.LazyLinear(n_hidden, bias=bias)\n",
    "        self.W_o = nn.LazyLinear(n_out)\n",
    "        self.attention = DotProductAttention(dropout_rate)\n",
    "    \n",
    "    def transpose_QKV(self, X: torch.Tensor):\n",
    "        X = X.reshape(*X.shape[:2], self.n_heads, -1)\n",
    "        X = X.permute(0, 2, 1, 3) # (batch_size, n_heads, seq_len, n_hidden/n_heads)\n",
    "        return X\n",
    "    \n",
    "    def forward(self, X: torch.Tensor):\n",
    "        \n",
    "        Q = self.transpose_QKV(self.W_q(X))\n",
    "        K = self.transpose_QKV(self.W_k(X))\n",
    "        V = self.transpose_QKV(self.W_v(X))\n",
    "        # Q, K, V: (batch_size, n_heads, seq_len, n_hidden/n_heads)\n",
    "        \n",
    "        out = self.attention(Q, K, V)\n",
    "        out = out.reshape(out.shape[0], out.shape[2], -1) # (batch_size, seq_len, n_hidden*n_heads)\n",
    "        \n",
    "        return self.W_o(out)\n",
    "        \n",
    "mha = MultiHeadAttention(n_heads=5, n_hidden=20, n_out=16)\n",
    "X = torch.randn(16, 8, 2)\n",
    "mha(X).shape"
   ],
   "metadata": {
    "collapsed": false,
    "ExecuteTime": {
     "end_time": "2024-03-17T18:17:25.043191Z",
     "start_time": "2024-03-17T18:17:25.033594Z"
    }
   },
   "id": "ef5f69894e4ef0d",
   "execution_count": 293
  },
  {
   "cell_type": "code",
   "outputs": [
    {
     "data": {
      "text/plain": "torch.Size([16, 8, 100])"
     },
     "execution_count": 294,
     "metadata": {},
     "output_type": "execute_result"
    }
   ],
   "source": [
    "class TransformerDecoderBlock(nn.Module):\n",
    "    \n",
    "    def __init__(self, vocab_size, n_heads=5, n_hidden=20, n_out=16, ffn_n_hidden=16, dropout=0.1):\n",
    "        super().__init__()\n",
    "        self.emb = nn.Embedding(vocab_size, n_out)\n",
    "        self.pos_emb = nn.Embedding(vocab_size, n_out)\n",
    "        \n",
    "        self.mha = MultiHeadAttention(n_heads, n_hidden, n_out, dropout)\n",
    "        self.norm1 = nn.LayerNorm(n_out)\n",
    "        self.ffn = nn.Sequential(nn.LazyLinear(ffn_n_hidden), nn.ReLU(), nn.LazyLinear(n_out))\n",
    "        self.norm2 = nn.LayerNorm(n_out)\n",
    "        \n",
    "    def forward(self, X: torch.Tensor):\n",
    "        i = torch.arange(X.shape[1])\n",
    "        \n",
    "        X = self.emb(X) + self.pos_emb(i)\n",
    "        \n",
    "        X = self.norm1(X + self.mha(X))\n",
    "        X = self.norm2(X + self.ffn(X))\n",
    "        return X\n",
    "\n",
    "tdb = TransformerDecoderBlock(100, n_out=2)\n",
    "net = nn.Sequential(tdb, nn.LazyLinear(100), nn.Softmax(dim=-1))\n",
    "X = torch.ones((16, 8)).type(torch.int32)\n",
    "net(X).shape"
   ],
   "metadata": {
    "collapsed": false,
    "ExecuteTime": {
     "end_time": "2024-03-17T18:17:28.008148Z",
     "start_time": "2024-03-17T18:17:27.997618Z"
    }
   },
   "id": "54ce18b4bc24b3cd",
   "execution_count": 294
  },
  {
   "cell_type": "code",
   "outputs": [
    {
     "name": "stdout",
     "output_type": "stream",
     "text": [
      "4.137979030609131\n",
      "3.99735426902771\n",
      "3.99735426902771\n",
      "3.99735426902771\n",
      "3.99735426902771\n"
     ]
    },
    {
     "ename": "KeyboardInterrupt",
     "evalue": "",
     "output_type": "error",
     "traceback": [
      "\u001B[1;31m---------------------------------------------------------------------------\u001B[0m",
      "\u001B[1;31mKeyboardInterrupt\u001B[0m                         Traceback (most recent call last)",
      "Cell \u001B[1;32mIn[313], line 34\u001B[0m\n\u001B[0;32m     31\u001B[0m     loss \u001B[38;5;241m=\u001B[39m F\u001B[38;5;241m.\u001B[39mcross_entropy(y_pred, y)\n\u001B[0;32m     33\u001B[0m     optim\u001B[38;5;241m.\u001B[39mzero_grad()\n\u001B[1;32m---> 34\u001B[0m     \u001B[43mloss\u001B[49m\u001B[38;5;241;43m.\u001B[39;49m\u001B[43mbackward\u001B[49m\u001B[43m(\u001B[49m\u001B[43m)\u001B[49m\n\u001B[0;32m     35\u001B[0m     optim\u001B[38;5;241m.\u001B[39mstep()\n\u001B[0;32m     37\u001B[0m \u001B[38;5;28mprint\u001B[39m(loss\u001B[38;5;241m.\u001B[39mitem())\n",
      "File \u001B[1;32m~\\python-dev\\deeplearning_notebooks\\venv\\Lib\\site-packages\\torch\\_tensor.py:522\u001B[0m, in \u001B[0;36mTensor.backward\u001B[1;34m(self, gradient, retain_graph, create_graph, inputs)\u001B[0m\n\u001B[0;32m    512\u001B[0m \u001B[38;5;28;01mif\u001B[39;00m has_torch_function_unary(\u001B[38;5;28mself\u001B[39m):\n\u001B[0;32m    513\u001B[0m     \u001B[38;5;28;01mreturn\u001B[39;00m handle_torch_function(\n\u001B[0;32m    514\u001B[0m         Tensor\u001B[38;5;241m.\u001B[39mbackward,\n\u001B[0;32m    515\u001B[0m         (\u001B[38;5;28mself\u001B[39m,),\n\u001B[1;32m   (...)\u001B[0m\n\u001B[0;32m    520\u001B[0m         inputs\u001B[38;5;241m=\u001B[39minputs,\n\u001B[0;32m    521\u001B[0m     )\n\u001B[1;32m--> 522\u001B[0m \u001B[43mtorch\u001B[49m\u001B[38;5;241;43m.\u001B[39;49m\u001B[43mautograd\u001B[49m\u001B[38;5;241;43m.\u001B[39;49m\u001B[43mbackward\u001B[49m\u001B[43m(\u001B[49m\n\u001B[0;32m    523\u001B[0m \u001B[43m    \u001B[49m\u001B[38;5;28;43mself\u001B[39;49m\u001B[43m,\u001B[49m\u001B[43m \u001B[49m\u001B[43mgradient\u001B[49m\u001B[43m,\u001B[49m\u001B[43m \u001B[49m\u001B[43mretain_graph\u001B[49m\u001B[43m,\u001B[49m\u001B[43m \u001B[49m\u001B[43mcreate_graph\u001B[49m\u001B[43m,\u001B[49m\u001B[43m \u001B[49m\u001B[43minputs\u001B[49m\u001B[38;5;241;43m=\u001B[39;49m\u001B[43minputs\u001B[49m\n\u001B[0;32m    524\u001B[0m \u001B[43m\u001B[49m\u001B[43m)\u001B[49m\n",
      "File \u001B[1;32m~\\python-dev\\deeplearning_notebooks\\venv\\Lib\\site-packages\\torch\\autograd\\__init__.py:266\u001B[0m, in \u001B[0;36mbackward\u001B[1;34m(tensors, grad_tensors, retain_graph, create_graph, grad_variables, inputs)\u001B[0m\n\u001B[0;32m    261\u001B[0m     retain_graph \u001B[38;5;241m=\u001B[39m create_graph\n\u001B[0;32m    263\u001B[0m \u001B[38;5;66;03m# The reason we repeat the same comment below is that\u001B[39;00m\n\u001B[0;32m    264\u001B[0m \u001B[38;5;66;03m# some Python versions print out the first line of a multi-line function\u001B[39;00m\n\u001B[0;32m    265\u001B[0m \u001B[38;5;66;03m# calls in the traceback and some print out the last line\u001B[39;00m\n\u001B[1;32m--> 266\u001B[0m \u001B[43mVariable\u001B[49m\u001B[38;5;241;43m.\u001B[39;49m\u001B[43m_execution_engine\u001B[49m\u001B[38;5;241;43m.\u001B[39;49m\u001B[43mrun_backward\u001B[49m\u001B[43m(\u001B[49m\u001B[43m  \u001B[49m\u001B[38;5;66;43;03m# Calls into the C++ engine to run the backward pass\u001B[39;49;00m\n\u001B[0;32m    267\u001B[0m \u001B[43m    \u001B[49m\u001B[43mtensors\u001B[49m\u001B[43m,\u001B[49m\n\u001B[0;32m    268\u001B[0m \u001B[43m    \u001B[49m\u001B[43mgrad_tensors_\u001B[49m\u001B[43m,\u001B[49m\n\u001B[0;32m    269\u001B[0m \u001B[43m    \u001B[49m\u001B[43mretain_graph\u001B[49m\u001B[43m,\u001B[49m\n\u001B[0;32m    270\u001B[0m \u001B[43m    \u001B[49m\u001B[43mcreate_graph\u001B[49m\u001B[43m,\u001B[49m\n\u001B[0;32m    271\u001B[0m \u001B[43m    \u001B[49m\u001B[43minputs\u001B[49m\u001B[43m,\u001B[49m\n\u001B[0;32m    272\u001B[0m \u001B[43m    \u001B[49m\u001B[43mallow_unreachable\u001B[49m\u001B[38;5;241;43m=\u001B[39;49m\u001B[38;5;28;43;01mTrue\u001B[39;49;00m\u001B[43m,\u001B[49m\n\u001B[0;32m    273\u001B[0m \u001B[43m    \u001B[49m\u001B[43maccumulate_grad\u001B[49m\u001B[38;5;241;43m=\u001B[39;49m\u001B[38;5;28;43;01mTrue\u001B[39;49;00m\u001B[43m,\u001B[49m\n\u001B[0;32m    274\u001B[0m \u001B[43m\u001B[49m\u001B[43m)\u001B[49m\n",
      "\u001B[1;31mKeyboardInterrupt\u001B[0m: "
     ]
    }
   ],
   "source": [
    "dataset = VocabDataset(\"../datasets/shakespeare.txt\", seq_len=8)\n",
    "\n",
    "train_indices = list(range(0, int(len(dataset) * 0.8)))\n",
    "val_indices = list(range(0, int(len(dataset) * 0.2)))\n",
    "\n",
    "train_set = torch.utils.data.Subset(dataset, train_indices)\n",
    "val_set = torch.utils.data.Subset(dataset, val_indices)\n",
    "\n",
    "train_loader = DataLoader(train_set, batch_size=128, shuffle=False)\n",
    "val_loader = DataLoader(val_set, batch_size=128, shuffle=False)\n",
    "\n",
    "tdb = TransformerDecoderBlock(\n",
    "    vocab_size=dataset.vocab_size,\n",
    "    n_heads=5,\n",
    "    n_hidden=20,\n",
    "    n_out=2,\n",
    "    ffn_n_hidden=50\n",
    ")\n",
    "net = nn.Sequential(tdb, nn.LazyLinear(dataset.vocab_size), nn.Softmax(dim=-1))\n",
    "\n",
    "optim = torch.optim.Adam(net.parameters(), lr=0.1)\n",
    "\n",
    "for _ in range(10):\n",
    "    \n",
    "    for i, (x, y) in enumerate(train_loader):\n",
    "    \n",
    "        # print(x.shape, y.shape)\n",
    "        y_pred = net(x)\n",
    "        y_pred = y_pred.transpose(1, 2)\n",
    "        \n",
    "        loss = F.cross_entropy(y_pred, y)\n",
    "        \n",
    "        optim.zero_grad()\n",
    "        loss.backward()\n",
    "        optim.step()\n",
    "    \n",
    "    print(loss.item())\n"
   ],
   "metadata": {
    "collapsed": false,
    "ExecuteTime": {
     "end_time": "2024-03-17T18:27:43.903469Z",
     "start_time": "2024-03-17T18:23:43.351365Z"
    }
   },
   "id": "9fef8ecf9f28b0a3",
   "execution_count": 313
  }
 ],
 "metadata": {
  "kernelspec": {
   "display_name": "Python 3",
   "language": "python",
   "name": "python3"
  },
  "language_info": {
   "codemirror_mode": {
    "name": "ipython",
    "version": 2
   },
   "file_extension": ".py",
   "mimetype": "text/x-python",
   "name": "python",
   "nbconvert_exporter": "python",
   "pygments_lexer": "ipython2",
   "version": "2.7.6"
  }
 },
 "nbformat": 4,
 "nbformat_minor": 5
}
